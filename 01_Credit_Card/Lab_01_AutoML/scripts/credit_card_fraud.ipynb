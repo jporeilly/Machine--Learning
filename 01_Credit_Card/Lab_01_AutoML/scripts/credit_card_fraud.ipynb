{
  "nbformat": 4,
  "nbformat_minor": 0,
  "metadata": {
    "colab": {
      "name": "credit_card_fraud.ipynb",
      "provenance": [],
      "collapsed_sections": [],
      "toc_visible": true
    },
    "kernelspec": {
      "name": "python3",
      "display_name": "Python 3"
    },
    "widgets": {
      "application/vnd.jupyter.widget-state+json": {
        "7912edbfce74455e973c5f94b80f9eaf": {
          "model_module": "@jupyter-widgets/controls",
          "model_name": "HBoxModel",
          "state": {
            "_view_name": "HBoxView",
            "_dom_classes": [],
            "_model_name": "HBoxModel",
            "_view_module": "@jupyter-widgets/controls",
            "_model_module_version": "1.5.0",
            "_view_count": null,
            "_view_module_version": "1.5.0",
            "box_style": "",
            "layout": "IPY_MODEL_b73a4a2258a643c5893511d7854f2445",
            "_model_module": "@jupyter-widgets/controls",
            "children": [
              "IPY_MODEL_54a1bd72fee44ca7828e31d8a0767143",
              "IPY_MODEL_ea86212eb43745abb10f388ac90eb6c5"
            ]
          }
        },
        "b73a4a2258a643c5893511d7854f2445": {
          "model_module": "@jupyter-widgets/base",
          "model_name": "LayoutModel",
          "state": {
            "_view_name": "LayoutView",
            "grid_template_rows": null,
            "right": null,
            "justify_content": null,
            "_view_module": "@jupyter-widgets/base",
            "overflow": null,
            "_model_module_version": "1.2.0",
            "_view_count": null,
            "flex_flow": null,
            "width": null,
            "min_width": null,
            "border": null,
            "align_items": null,
            "bottom": null,
            "_model_module": "@jupyter-widgets/base",
            "top": null,
            "grid_column": null,
            "overflow_y": null,
            "overflow_x": null,
            "grid_auto_flow": null,
            "grid_area": null,
            "grid_template_columns": null,
            "flex": null,
            "_model_name": "LayoutModel",
            "justify_items": null,
            "grid_row": null,
            "max_height": null,
            "align_content": null,
            "visibility": null,
            "align_self": null,
            "height": null,
            "min_height": null,
            "padding": null,
            "grid_auto_rows": null,
            "grid_gap": null,
            "max_width": null,
            "order": null,
            "_view_module_version": "1.2.0",
            "grid_template_areas": null,
            "object_position": null,
            "object_fit": null,
            "grid_auto_columns": null,
            "margin": null,
            "display": null,
            "left": null
          }
        },
        "54a1bd72fee44ca7828e31d8a0767143": {
          "model_module": "@jupyter-widgets/controls",
          "model_name": "FloatProgressModel",
          "state": {
            "_view_name": "ProgressView",
            "style": "IPY_MODEL_6ab26449ba7046849e5b02655d880801",
            "_dom_classes": [],
            "description": "Optimization Progress: 100%",
            "_model_name": "FloatProgressModel",
            "bar_style": "",
            "max": 200,
            "_view_module": "@jupyter-widgets/controls",
            "_model_module_version": "1.5.0",
            "value": 200,
            "_view_count": null,
            "_view_module_version": "1.5.0",
            "orientation": "horizontal",
            "min": 0,
            "description_tooltip": null,
            "_model_module": "@jupyter-widgets/controls",
            "layout": "IPY_MODEL_d5bdc0525f44497cbf90f7390aea61af"
          }
        },
        "ea86212eb43745abb10f388ac90eb6c5": {
          "model_module": "@jupyter-widgets/controls",
          "model_name": "HTMLModel",
          "state": {
            "_view_name": "HTMLView",
            "style": "IPY_MODEL_cef03d2bb8a5413eb1eb7733e61d44c8",
            "_dom_classes": [],
            "description": "",
            "_model_name": "HTMLModel",
            "placeholder": "​",
            "_view_module": "@jupyter-widgets/controls",
            "_model_module_version": "1.5.0",
            "value": " 200/200 [00:18&lt;00:00,  6.28pipeline/s]",
            "_view_count": null,
            "_view_module_version": "1.5.0",
            "description_tooltip": null,
            "_model_module": "@jupyter-widgets/controls",
            "layout": "IPY_MODEL_fcee358ee2f74ca18d1e5c13c68f24bb"
          }
        },
        "6ab26449ba7046849e5b02655d880801": {
          "model_module": "@jupyter-widgets/controls",
          "model_name": "ProgressStyleModel",
          "state": {
            "_view_name": "StyleView",
            "_model_name": "ProgressStyleModel",
            "description_width": "initial",
            "_view_module": "@jupyter-widgets/base",
            "_model_module_version": "1.5.0",
            "_view_count": null,
            "_view_module_version": "1.2.0",
            "bar_color": null,
            "_model_module": "@jupyter-widgets/controls"
          }
        },
        "d5bdc0525f44497cbf90f7390aea61af": {
          "model_module": "@jupyter-widgets/base",
          "model_name": "LayoutModel",
          "state": {
            "_view_name": "LayoutView",
            "grid_template_rows": null,
            "right": null,
            "justify_content": null,
            "_view_module": "@jupyter-widgets/base",
            "overflow": null,
            "_model_module_version": "1.2.0",
            "_view_count": null,
            "flex_flow": null,
            "width": null,
            "min_width": null,
            "border": null,
            "align_items": null,
            "bottom": null,
            "_model_module": "@jupyter-widgets/base",
            "top": null,
            "grid_column": null,
            "overflow_y": null,
            "overflow_x": null,
            "grid_auto_flow": null,
            "grid_area": null,
            "grid_template_columns": null,
            "flex": null,
            "_model_name": "LayoutModel",
            "justify_items": null,
            "grid_row": null,
            "max_height": null,
            "align_content": null,
            "visibility": null,
            "align_self": null,
            "height": null,
            "min_height": null,
            "padding": null,
            "grid_auto_rows": null,
            "grid_gap": null,
            "max_width": null,
            "order": null,
            "_view_module_version": "1.2.0",
            "grid_template_areas": null,
            "object_position": null,
            "object_fit": null,
            "grid_auto_columns": null,
            "margin": null,
            "display": null,
            "left": null
          }
        },
        "cef03d2bb8a5413eb1eb7733e61d44c8": {
          "model_module": "@jupyter-widgets/controls",
          "model_name": "DescriptionStyleModel",
          "state": {
            "_view_name": "StyleView",
            "_model_name": "DescriptionStyleModel",
            "description_width": "",
            "_view_module": "@jupyter-widgets/base",
            "_model_module_version": "1.5.0",
            "_view_count": null,
            "_view_module_version": "1.2.0",
            "_model_module": "@jupyter-widgets/controls"
          }
        },
        "fcee358ee2f74ca18d1e5c13c68f24bb": {
          "model_module": "@jupyter-widgets/base",
          "model_name": "LayoutModel",
          "state": {
            "_view_name": "LayoutView",
            "grid_template_rows": null,
            "right": null,
            "justify_content": null,
            "_view_module": "@jupyter-widgets/base",
            "overflow": null,
            "_model_module_version": "1.2.0",
            "_view_count": null,
            "flex_flow": null,
            "width": null,
            "min_width": null,
            "border": null,
            "align_items": null,
            "bottom": null,
            "_model_module": "@jupyter-widgets/base",
            "top": null,
            "grid_column": null,
            "overflow_y": null,
            "overflow_x": null,
            "grid_auto_flow": null,
            "grid_area": null,
            "grid_template_columns": null,
            "flex": null,
            "_model_name": "LayoutModel",
            "justify_items": null,
            "grid_row": null,
            "max_height": null,
            "align_content": null,
            "visibility": null,
            "align_self": null,
            "height": null,
            "min_height": null,
            "padding": null,
            "grid_auto_rows": null,
            "grid_gap": null,
            "max_width": null,
            "order": null,
            "_view_module_version": "1.2.0",
            "grid_template_areas": null,
            "object_position": null,
            "object_fit": null,
            "grid_auto_columns": null,
            "margin": null,
            "display": null,
            "left": null
          }
        }
      }
    }
  },
  "cells": [
    {
      "cell_type": "markdown",
      "metadata": {
        "id": "Q0iaOYCDIvu1",
        "colab_type": "text"
      },
      "source": [
        "# TPOT - Credit Card Fraud"
      ]
    },
    {
      "cell_type": "markdown",
      "metadata": {
        "id": "7bR4IYms0VYr",
        "colab_type": "text"
      },
      "source": [
        "> ### Install TPOT"
      ]
    },
    {
      "cell_type": "code",
      "metadata": {
        "id": "3XuglahR0dlv",
        "colab_type": "code",
        "colab": {}
      },
      "source": [
        "# Installs TPOT libraries.\n",
        "!pip install tpot"
      ],
      "execution_count": null,
      "outputs": []
    },
    {
      "cell_type": "markdown",
      "metadata": {
        "id": "Dn_t1SOrJwOC",
        "colab_type": "text"
      },
      "source": [
        "> ### Import Libraries\n"
      ]
    },
    {
      "cell_type": "code",
      "metadata": {
        "id": "gBxSPYHsJ7Hj",
        "colab_type": "code",
        "colab": {}
      },
      "source": [
        "# import libraries\n",
        "import numpy as np\n",
        "import pandas as pd\n",
        "from tpot import TPOTClassifier\n",
        "from sklearn import preprocessing\n",
        "from sklearn.model_selection import train_test_split"
      ],
      "execution_count": 2,
      "outputs": []
    },
    {
      "cell_type": "markdown",
      "metadata": {
        "id": "rogF_vGbLjWx",
        "colab_type": "text"
      },
      "source": [
        "> ### Import Dataset"
      ]
    },
    {
      "cell_type": "code",
      "metadata": {
        "id": "v9wQTM_6Mo-T",
        "colab_type": "code",
        "colab": {}
      },
      "source": [
        "# pulls dataset from github with no header\n",
        "url = 'https://raw.githubusercontent.com/jporeilly/Machine--Learning/master/01_Credit_Card/Lab_01_AutoML/data/TPOT.csv' \n",
        "dataset = pd.read_csv(url, sep= ';', header=None)\n",
        "x = dataset.iloc[:, :-1].values\n",
        "y = dataset.iloc[:, 8].values"
      ],
      "execution_count": 3,
      "outputs": []
    },
    {
      "cell_type": "markdown",
      "metadata": {
        "id": "3NURFI_GMUHl",
        "colab_type": "text"
      },
      "source": [
        "> #### Data Exploration"
      ]
    },
    {
      "cell_type": "code",
      "metadata": {
        "id": "VuTFh1I8M25U",
        "colab_type": "code",
        "colab": {
          "base_uri": "https://localhost:8080/",
          "height": 204
        },
        "outputId": "4c33ccb0-0163-4063-a081-252ec951e454"
      },
      "source": [
        "# displays dataset and outputs independent x variables and dependent y variable\n",
        "dataset.head()"
      ],
      "execution_count": 4,
      "outputs": [
        {
          "output_type": "execute_result",
          "data": {
            "text/html": [
              "<div>\n",
              "<style scoped>\n",
              "    .dataframe tbody tr th:only-of-type {\n",
              "        vertical-align: middle;\n",
              "    }\n",
              "\n",
              "    .dataframe tbody tr th {\n",
              "        vertical-align: top;\n",
              "    }\n",
              "\n",
              "    .dataframe thead th {\n",
              "        text-align: right;\n",
              "    }\n",
              "</style>\n",
              "<table border=\"1\" class=\"dataframe\">\n",
              "  <thead>\n",
              "    <tr style=\"text-align: right;\">\n",
              "      <th></th>\n",
              "      <th>0</th>\n",
              "      <th>1</th>\n",
              "      <th>2</th>\n",
              "      <th>3</th>\n",
              "      <th>4</th>\n",
              "      <th>5</th>\n",
              "      <th>6</th>\n",
              "      <th>7</th>\n",
              "      <th>8</th>\n",
              "    </tr>\n",
              "  </thead>\n",
              "  <tbody>\n",
              "    <tr>\n",
              "      <th>0</th>\n",
              "      <td>0</td>\n",
              "      <td>964.7</td>\n",
              "      <td>19</td>\n",
              "      <td>104.7</td>\n",
              "      <td>1</td>\n",
              "      <td>40</td>\n",
              "      <td>7</td>\n",
              "      <td>0</td>\n",
              "      <td>0</td>\n",
              "    </tr>\n",
              "    <tr>\n",
              "      <th>1</th>\n",
              "      <td>0</td>\n",
              "      <td>524.1</td>\n",
              "      <td>15</td>\n",
              "      <td>24.2</td>\n",
              "      <td>0</td>\n",
              "      <td>55</td>\n",
              "      <td>4</td>\n",
              "      <td>1</td>\n",
              "      <td>0</td>\n",
              "    </tr>\n",
              "    <tr>\n",
              "      <th>2</th>\n",
              "      <td>0</td>\n",
              "      <td>234.2</td>\n",
              "      <td>18</td>\n",
              "      <td>13.8</td>\n",
              "      <td>1</td>\n",
              "      <td>66</td>\n",
              "      <td>15</td>\n",
              "      <td>0</td>\n",
              "      <td>0</td>\n",
              "    </tr>\n",
              "    <tr>\n",
              "      <th>3</th>\n",
              "      <td>1</td>\n",
              "      <td>207.7</td>\n",
              "      <td>8</td>\n",
              "      <td>56.3</td>\n",
              "      <td>0</td>\n",
              "      <td>45</td>\n",
              "      <td>23</td>\n",
              "      <td>1</td>\n",
              "      <td>0</td>\n",
              "    </tr>\n",
              "    <tr>\n",
              "      <th>4</th>\n",
              "      <td>1</td>\n",
              "      <td>910.6</td>\n",
              "      <td>11</td>\n",
              "      <td>59.1</td>\n",
              "      <td>0</td>\n",
              "      <td>31</td>\n",
              "      <td>23</td>\n",
              "      <td>1</td>\n",
              "      <td>1</td>\n",
              "    </tr>\n",
              "  </tbody>\n",
              "</table>\n",
              "</div>"
            ],
            "text/plain": [
              "   0      1   2      3  4   5   6  7  8\n",
              "0  0  964.7  19  104.7  1  40   7  0  0\n",
              "1  0  524.1  15   24.2  0  55   4  1  0\n",
              "2  0  234.2  18   13.8  1  66  15  0  0\n",
              "3  1  207.7   8   56.3  0  45  23  1  0\n",
              "4  1  910.6  11   59.1  0  31  23  1  1"
            ]
          },
          "metadata": {
            "tags": []
          },
          "execution_count": 4
        }
      ]
    },
    {
      "cell_type": "code",
      "metadata": {
        "id": "d2Ewbaeg2pVb",
        "colab_type": "code",
        "colab": {
          "base_uri": "https://localhost:8080/",
          "height": 136
        },
        "outputId": "7d9c5d89-cfd7-45af-b6bb-cf10a52d9ee5"
      },
      "source": [
        "print (x)"
      ],
      "execution_count": 5,
      "outputs": [
        {
          "output_type": "stream",
          "text": [
            "[[  0.  964.7  19.  ...  40.    7.    0. ]\n",
            " [  0.  524.1  15.  ...  55.    4.    1. ]\n",
            " [  0.  234.2  18.  ...  66.   15.    0. ]\n",
            " ...\n",
            " [  0.    4.9   6.  ...   5.   12.    0. ]\n",
            " [  0.   30.1  20.  ...  21.    7.    1. ]\n",
            " [  1.   81.6   1.  ...  50.   21.    1. ]]\n"
          ],
          "name": "stdout"
        }
      ]
    },
    {
      "cell_type": "code",
      "metadata": {
        "id": "DrOKwScg2v6T",
        "colab_type": "code",
        "colab": {
          "base_uri": "https://localhost:8080/",
          "height": 34
        },
        "outputId": "8da4ee49-3cda-4cbc-890f-30803012831b"
      },
      "source": [
        "print (y)"
      ],
      "execution_count": 6,
      "outputs": [
        {
          "output_type": "stream",
          "text": [
            "[0 0 0 ... 0 1 0]\n"
          ],
          "name": "stdout"
        }
      ]
    },
    {
      "cell_type": "markdown",
      "metadata": {
        "id": "B1JPT2dcMaDa",
        "colab_type": "text"
      },
      "source": [
        "> ### Add Column Headers"
      ]
    },
    {
      "cell_type": "code",
      "metadata": {
        "id": "Ht3fAR28lzIh",
        "colab_type": "code",
        "colab": {}
      },
      "source": [
        "# adds column headers\n",
        "dataset.columns = ['first_time_customer','order_dollar_amount','num_items','age','web_order','total_transactions_to_date','hour_of_day','billing_shipping_zip_equal','reported_as_fraud_historic']"
      ],
      "execution_count": 7,
      "outputs": []
    },
    {
      "cell_type": "markdown",
      "metadata": {
        "id": "-jlCp13jmzie",
        "colab_type": "text"
      },
      "source": [
        "> #### Check Dataset"
      ]
    },
    {
      "cell_type": "code",
      "metadata": {
        "id": "xzIanu7gm5co",
        "colab_type": "code",
        "colab": {
          "base_uri": "https://localhost:8080/",
          "height": 204
        },
        "outputId": "a742e85e-4460-422d-cc62-3bc4a27f64bf"
      },
      "source": [
        "# check column headers\n",
        "dataset.head()"
      ],
      "execution_count": 8,
      "outputs": [
        {
          "output_type": "execute_result",
          "data": {
            "text/html": [
              "<div>\n",
              "<style scoped>\n",
              "    .dataframe tbody tr th:only-of-type {\n",
              "        vertical-align: middle;\n",
              "    }\n",
              "\n",
              "    .dataframe tbody tr th {\n",
              "        vertical-align: top;\n",
              "    }\n",
              "\n",
              "    .dataframe thead th {\n",
              "        text-align: right;\n",
              "    }\n",
              "</style>\n",
              "<table border=\"1\" class=\"dataframe\">\n",
              "  <thead>\n",
              "    <tr style=\"text-align: right;\">\n",
              "      <th></th>\n",
              "      <th>first_time_customer</th>\n",
              "      <th>order_dollar_amount</th>\n",
              "      <th>num_items</th>\n",
              "      <th>age</th>\n",
              "      <th>web_order</th>\n",
              "      <th>total_transactions_to_date</th>\n",
              "      <th>hour_of_day</th>\n",
              "      <th>billing_shipping_zip_equal</th>\n",
              "      <th>reported_as_fraud_historic</th>\n",
              "    </tr>\n",
              "  </thead>\n",
              "  <tbody>\n",
              "    <tr>\n",
              "      <th>0</th>\n",
              "      <td>0</td>\n",
              "      <td>964.7</td>\n",
              "      <td>19</td>\n",
              "      <td>104.7</td>\n",
              "      <td>1</td>\n",
              "      <td>40</td>\n",
              "      <td>7</td>\n",
              "      <td>0</td>\n",
              "      <td>0</td>\n",
              "    </tr>\n",
              "    <tr>\n",
              "      <th>1</th>\n",
              "      <td>0</td>\n",
              "      <td>524.1</td>\n",
              "      <td>15</td>\n",
              "      <td>24.2</td>\n",
              "      <td>0</td>\n",
              "      <td>55</td>\n",
              "      <td>4</td>\n",
              "      <td>1</td>\n",
              "      <td>0</td>\n",
              "    </tr>\n",
              "    <tr>\n",
              "      <th>2</th>\n",
              "      <td>0</td>\n",
              "      <td>234.2</td>\n",
              "      <td>18</td>\n",
              "      <td>13.8</td>\n",
              "      <td>1</td>\n",
              "      <td>66</td>\n",
              "      <td>15</td>\n",
              "      <td>0</td>\n",
              "      <td>0</td>\n",
              "    </tr>\n",
              "    <tr>\n",
              "      <th>3</th>\n",
              "      <td>1</td>\n",
              "      <td>207.7</td>\n",
              "      <td>8</td>\n",
              "      <td>56.3</td>\n",
              "      <td>0</td>\n",
              "      <td>45</td>\n",
              "      <td>23</td>\n",
              "      <td>1</td>\n",
              "      <td>0</td>\n",
              "    </tr>\n",
              "    <tr>\n",
              "      <th>4</th>\n",
              "      <td>1</td>\n",
              "      <td>910.6</td>\n",
              "      <td>11</td>\n",
              "      <td>59.1</td>\n",
              "      <td>0</td>\n",
              "      <td>31</td>\n",
              "      <td>23</td>\n",
              "      <td>1</td>\n",
              "      <td>1</td>\n",
              "    </tr>\n",
              "  </tbody>\n",
              "</table>\n",
              "</div>"
            ],
            "text/plain": [
              "   first_time_customer  ...  reported_as_fraud_historic\n",
              "0                    0  ...                           0\n",
              "1                    0  ...                           0\n",
              "2                    0  ...                           0\n",
              "3                    1  ...                           0\n",
              "4                    1  ...                           1\n",
              "\n",
              "[5 rows x 9 columns]"
            ]
          },
          "metadata": {
            "tags": []
          },
          "execution_count": 8
        }
      ]
    },
    {
      "cell_type": "markdown",
      "metadata": {
        "id": "Ov1Z26Nr5CpZ",
        "colab_type": "text"
      },
      "source": [
        "> ### Convert Dataset to Numpy Array and Fit (optional)"
      ]
    },
    {
      "cell_type": "code",
      "metadata": {
        "id": "K2PYKxTj5GmS",
        "colab_type": "code",
        "colab": {}
      },
      "source": [
        "# convert to numpy array and fit data\n",
        "x = dataset.iloc[:,0:-1].values\n",
        "min_max_scaler = preprocessing.MinMaxScaler()\n",
        "x_scaled = min_max_scaler.fit_transform(x)\n",
        "X=np.asarray(x_scaled)\n",
        "y=np.asarray(dataset.iloc[:,-1])"
      ],
      "execution_count": 9,
      "outputs": []
    },
    {
      "cell_type": "markdown",
      "metadata": {
        "id": "b-t0NFd36z2S",
        "colab_type": "text"
      },
      "source": [
        "> #### Check Dataset"
      ]
    },
    {
      "cell_type": "code",
      "metadata": {
        "id": "pr0nunc_7YPS",
        "colab_type": "code",
        "colab": {
          "base_uri": "https://localhost:8080/",
          "height": 204
        },
        "outputId": "8f63f5a6-8374-4c03-b729-5ac3714f02ae"
      },
      "source": [
        "dataset.head()"
      ],
      "execution_count": 10,
      "outputs": [
        {
          "output_type": "execute_result",
          "data": {
            "text/html": [
              "<div>\n",
              "<style scoped>\n",
              "    .dataframe tbody tr th:only-of-type {\n",
              "        vertical-align: middle;\n",
              "    }\n",
              "\n",
              "    .dataframe tbody tr th {\n",
              "        vertical-align: top;\n",
              "    }\n",
              "\n",
              "    .dataframe thead th {\n",
              "        text-align: right;\n",
              "    }\n",
              "</style>\n",
              "<table border=\"1\" class=\"dataframe\">\n",
              "  <thead>\n",
              "    <tr style=\"text-align: right;\">\n",
              "      <th></th>\n",
              "      <th>first_time_customer</th>\n",
              "      <th>order_dollar_amount</th>\n",
              "      <th>num_items</th>\n",
              "      <th>age</th>\n",
              "      <th>web_order</th>\n",
              "      <th>total_transactions_to_date</th>\n",
              "      <th>hour_of_day</th>\n",
              "      <th>billing_shipping_zip_equal</th>\n",
              "      <th>reported_as_fraud_historic</th>\n",
              "    </tr>\n",
              "  </thead>\n",
              "  <tbody>\n",
              "    <tr>\n",
              "      <th>0</th>\n",
              "      <td>0</td>\n",
              "      <td>964.7</td>\n",
              "      <td>19</td>\n",
              "      <td>104.7</td>\n",
              "      <td>1</td>\n",
              "      <td>40</td>\n",
              "      <td>7</td>\n",
              "      <td>0</td>\n",
              "      <td>0</td>\n",
              "    </tr>\n",
              "    <tr>\n",
              "      <th>1</th>\n",
              "      <td>0</td>\n",
              "      <td>524.1</td>\n",
              "      <td>15</td>\n",
              "      <td>24.2</td>\n",
              "      <td>0</td>\n",
              "      <td>55</td>\n",
              "      <td>4</td>\n",
              "      <td>1</td>\n",
              "      <td>0</td>\n",
              "    </tr>\n",
              "    <tr>\n",
              "      <th>2</th>\n",
              "      <td>0</td>\n",
              "      <td>234.2</td>\n",
              "      <td>18</td>\n",
              "      <td>13.8</td>\n",
              "      <td>1</td>\n",
              "      <td>66</td>\n",
              "      <td>15</td>\n",
              "      <td>0</td>\n",
              "      <td>0</td>\n",
              "    </tr>\n",
              "    <tr>\n",
              "      <th>3</th>\n",
              "      <td>1</td>\n",
              "      <td>207.7</td>\n",
              "      <td>8</td>\n",
              "      <td>56.3</td>\n",
              "      <td>0</td>\n",
              "      <td>45</td>\n",
              "      <td>23</td>\n",
              "      <td>1</td>\n",
              "      <td>0</td>\n",
              "    </tr>\n",
              "    <tr>\n",
              "      <th>4</th>\n",
              "      <td>1</td>\n",
              "      <td>910.6</td>\n",
              "      <td>11</td>\n",
              "      <td>59.1</td>\n",
              "      <td>0</td>\n",
              "      <td>31</td>\n",
              "      <td>23</td>\n",
              "      <td>1</td>\n",
              "      <td>1</td>\n",
              "    </tr>\n",
              "  </tbody>\n",
              "</table>\n",
              "</div>"
            ],
            "text/plain": [
              "   first_time_customer  ...  reported_as_fraud_historic\n",
              "0                    0  ...                           0\n",
              "1                    0  ...                           0\n",
              "2                    0  ...                           0\n",
              "3                    1  ...                           0\n",
              "4                    1  ...                           1\n",
              "\n",
              "[5 rows x 9 columns]"
            ]
          },
          "metadata": {
            "tags": []
          },
          "execution_count": 10
        }
      ]
    },
    {
      "cell_type": "markdown",
      "metadata": {
        "id": "TAXfHB901vhj",
        "colab_type": "text"
      },
      "source": [
        "> ### Splitting the Dataset: Train / Test"
      ]
    },
    {
      "cell_type": "code",
      "metadata": {
        "id": "NMpR33la6nVk",
        "colab_type": "code",
        "colab": {}
      },
      "source": [
        "# split the dataset 75% used for test\n",
        "X_train, X_test, y_train, y_test = train_test_split(X, y, test_size=0.75, random_state=None)"
      ],
      "execution_count": 11,
      "outputs": []
    },
    {
      "cell_type": "markdown",
      "metadata": {
        "id": "IxXkBXkK7Scu",
        "colab_type": "text"
      },
      "source": [
        "> ### TPOT Classifier"
      ]
    },
    {
      "cell_type": "code",
      "metadata": {
        "id": "61rEjbvn7xB6",
        "colab_type": "code",
        "colab": {
          "base_uri": "https://localhost:8080/",
          "height": 187,
          "referenced_widgets": [
            "7912edbfce74455e973c5f94b80f9eaf",
            "b73a4a2258a643c5893511d7854f2445",
            "54a1bd72fee44ca7828e31d8a0767143",
            "ea86212eb43745abb10f388ac90eb6c5",
            "6ab26449ba7046849e5b02655d880801",
            "d5bdc0525f44497cbf90f7390aea61af",
            "cef03d2bb8a5413eb1eb7733e61d44c8",
            "fcee358ee2f74ca18d1e5c13c68f24bb"
          ]
        },
        "outputId": "fdd8b5ae-ed53-4307-c296-20170b2b5929"
      },
      "source": [
        "# TPOT Classifier\n",
        "tpot = TPOTClassifier(generations=1, verbosity=2, population_size=100, scoring='accuracy', n_jobs = -1, config_dict='TPOT light')\n",
        "tpot.fit(X_train, y_train)\n",
        "output_score=str(tpot.score(X_test, y_test))\n",
        "print(tpot.fitted_pipeline_)"
      ],
      "execution_count": 12,
      "outputs": [
        {
          "output_type": "display_data",
          "data": {
            "application/vnd.jupyter.widget-view+json": {
              "model_id": "7912edbfce74455e973c5f94b80f9eaf",
              "version_minor": 0,
              "version_major": 2
            },
            "text/plain": [
              "HBox(children=(FloatProgress(value=0.0, description='Optimization Progress', max=200.0, style=ProgressStyle(de…"
            ]
          },
          "metadata": {
            "tags": []
          }
        },
        {
          "output_type": "stream",
          "text": [
            "\n",
            "Generation 1 - Current best internal CV score: 0.8807486973947896\r\n",
            "Best pipeline: KNeighborsClassifier(input_matrix, n_neighbors=7, p=1, weights=distance)\n",
            "Pipeline(memory=None,\n",
            "         steps=[('kneighborsclassifier',\n",
            "                 KNeighborsClassifier(algorithm='auto', leaf_size=30,\n",
            "                                      metric='minkowski', metric_params=None,\n",
            "                                      n_jobs=None, n_neighbors=7, p=1,\n",
            "                                      weights='distance'))],\n",
            "         verbose=False)\n"
          ],
          "name": "stdout"
        }
      ]
    },
    {
      "cell_type": "markdown",
      "metadata": {
        "id": "6jAicg4DB-PD",
        "colab_type": "text"
      },
      "source": [
        "> #### Export Pipeline as Python script"
      ]
    },
    {
      "cell_type": "code",
      "metadata": {
        "id": "vpHMD0nOCfhn",
        "colab_type": "code",
        "colab": {
          "base_uri": "https://localhost:8080/",
          "height": 17
        },
        "outputId": "a6d558b7-6e3f-4f14-e632-0d43acc5367a"
      },
      "source": [
        "# export results to python\n",
        "tpot.export('tpot_exported_credit_card_pipeline.py')\n",
        "from google.colab import files\n",
        "files.download('tpot_exported_credit_card_pipeline.py')"
      ],
      "execution_count": 13,
      "outputs": [
        {
          "output_type": "display_data",
          "data": {
            "application/javascript": [
              "\n",
              "    async function download(id, filename, size) {\n",
              "      if (!google.colab.kernel.accessAllowed) {\n",
              "        return;\n",
              "      }\n",
              "      const div = document.createElement('div');\n",
              "      const label = document.createElement('label');\n",
              "      label.textContent = `Downloading \"${filename}\": `;\n",
              "      div.appendChild(label);\n",
              "      const progress = document.createElement('progress');\n",
              "      progress.max = size;\n",
              "      div.appendChild(progress);\n",
              "      document.body.appendChild(div);\n",
              "\n",
              "      const buffers = [];\n",
              "      let downloaded = 0;\n",
              "\n",
              "      const channel = await google.colab.kernel.comms.open(id);\n",
              "      // Send a message to notify the kernel that we're ready.\n",
              "      channel.send({})\n",
              "\n",
              "      for await (const message of channel.messages) {\n",
              "        // Send a message to notify the kernel that we're ready.\n",
              "        channel.send({})\n",
              "        if (message.buffers) {\n",
              "          for (const buffer of message.buffers) {\n",
              "            buffers.push(buffer);\n",
              "            downloaded += buffer.byteLength;\n",
              "            progress.value = downloaded;\n",
              "          }\n",
              "        }\n",
              "      }\n",
              "      const blob = new Blob(buffers, {type: 'application/binary'});\n",
              "      const a = document.createElement('a');\n",
              "      a.href = window.URL.createObjectURL(blob);\n",
              "      a.download = filename;\n",
              "      div.appendChild(a);\n",
              "      a.click();\n",
              "      div.remove();\n",
              "    }\n",
              "  "
            ],
            "text/plain": [
              "<IPython.core.display.Javascript object>"
            ]
          },
          "metadata": {
            "tags": []
          }
        },
        {
          "output_type": "display_data",
          "data": {
            "application/javascript": [
              "download(\"download_74533856-7efb-41a4-af08-6c59df039410\", \"tpot_exported_credit_card_pipeline.py\", 764)"
            ],
            "text/plain": [
              "<IPython.core.display.Javascript object>"
            ]
          },
          "metadata": {
            "tags": []
          }
        }
      ]
    },
    {
      "cell_type": "markdown",
      "metadata": {
        "id": "wNKcBUXd8NxX",
        "colab_type": "text"
      },
      "source": [
        ">#### TPOT Evaluated Pipelines"
      ]
    },
    {
      "cell_type": "code",
      "metadata": {
        "id": "xcLhep898S_B",
        "colab_type": "code",
        "colab": {}
      },
      "source": [
        "# output as JSON each pipeline\n",
        "print(tpot.evaluated_individuals_)"
      ],
      "execution_count": null,
      "outputs": []
    }
  ]
}