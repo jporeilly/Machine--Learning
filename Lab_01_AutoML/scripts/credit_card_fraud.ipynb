{
  "nbformat": 4,
  "nbformat_minor": 0,
  "metadata": {
    "colab": {
      "name": "credit card fraud.ipynb",
      "provenance": [],
      "collapsed_sections": [],
      "toc_visible": true
    },
    "kernelspec": {
      "name": "python3",
      "display_name": "Python 3"
    }
  },
  "cells": [
    {
      "cell_type": "markdown",
      "metadata": {
        "id": "Q0iaOYCDIvu1",
        "colab_type": "text"
      },
      "source": [
        "# TPOT - Credit Card Fraud"
      ]
    },
    {
      "cell_type": "markdown",
      "metadata": {
        "id": "7bR4IYms0VYr",
        "colab_type": "text"
      },
      "source": [
        "> ### Install TPOT"
      ]
    },
    {
      "cell_type": "code",
      "metadata": {
        "id": "3XuglahR0dlv",
        "colab_type": "code",
        "colab": {}
      },
      "source": [
        "# Installs TPOT libraries.\n",
        "!pip install tpot"
      ],
      "execution_count": 0,
      "outputs": []
    },
    {
      "cell_type": "markdown",
      "metadata": {
        "id": "Dn_t1SOrJwOC",
        "colab_type": "text"
      },
      "source": [
        "> ### Import Libraries\n"
      ]
    },
    {
      "cell_type": "code",
      "metadata": {
        "id": "gBxSPYHsJ7Hj",
        "colab_type": "code",
        "colab": {}
      },
      "source": [
        "import numpy as np\n",
        "import pandas as pd\n",
        "from tpot import TPOTClassifier\n",
        "from sklearn import preprocessing\n",
        "from sklearn.model_selection import train_test_split"
      ],
      "execution_count": 0,
      "outputs": []
    },
    {
      "cell_type": "markdown",
      "metadata": {
        "id": "rogF_vGbLjWx",
        "colab_type": "text"
      },
      "source": [
        "> ### Import Dataset"
      ]
    },
    {
      "cell_type": "code",
      "metadata": {
        "id": "v9wQTM_6Mo-T",
        "colab_type": "code",
        "colab": {}
      },
      "source": [
        "url = 'https://raw.githubusercontent.com/jporeilly/Machine--Learning/master/Lab_01_AutoML/data/TPOT.csv' \n",
        "dataset = pd.read_csv(url, sep= ';', header=None)\n",
        "x = dataset.iloc[:, :-1].values\n",
        "y = dataset.iloc[:, 8].values"
      ],
      "execution_count": 0,
      "outputs": []
    },
    {
      "cell_type": "markdown",
      "metadata": {
        "id": "3NURFI_GMUHl",
        "colab_type": "text"
      },
      "source": [
        "> #### Check Dataset"
      ]
    },
    {
      "cell_type": "code",
      "metadata": {
        "id": "VuTFh1I8M25U",
        "colab_type": "code",
        "colab": {}
      },
      "source": [
        "dataset.head()"
      ],
      "execution_count": 0,
      "outputs": []
    },
    {
      "cell_type": "code",
      "metadata": {
        "id": "d2Ewbaeg2pVb",
        "colab_type": "code",
        "colab": {}
      },
      "source": [
        "print (x)"
      ],
      "execution_count": 0,
      "outputs": []
    },
    {
      "cell_type": "code",
      "metadata": {
        "id": "DrOKwScg2v6T",
        "colab_type": "code",
        "colab": {}
      },
      "source": [
        "print (y)"
      ],
      "execution_count": 0,
      "outputs": []
    },
    {
      "cell_type": "markdown",
      "metadata": {
        "id": "B1JPT2dcMaDa",
        "colab_type": "text"
      },
      "source": [
        "> ### Add Column Headers"
      ]
    },
    {
      "cell_type": "code",
      "metadata": {
        "id": "Ht3fAR28lzIh",
        "colab_type": "code",
        "colab": {}
      },
      "source": [
        "dataset.columns = ['first_time_customer','order_dollar_amount','num_items','age','web_order','total_transactions_to_date','hour_of_day','billing_shipping_zip_equal','reported_as_fraud_historic']"
      ],
      "execution_count": 0,
      "outputs": []
    },
    {
      "cell_type": "markdown",
      "metadata": {
        "id": "-jlCp13jmzie",
        "colab_type": "text"
      },
      "source": [
        "> #### Check Dataset"
      ]
    },
    {
      "cell_type": "code",
      "metadata": {
        "id": "xzIanu7gm5co",
        "colab_type": "code",
        "colab": {}
      },
      "source": [
        "dataset.head()"
      ],
      "execution_count": 0,
      "outputs": []
    },
    {
      "cell_type": "markdown",
      "metadata": {
        "id": "Ov1Z26Nr5CpZ",
        "colab_type": "text"
      },
      "source": [
        "> ### Convert Dataset to Numpy Array and Fit (optional)"
      ]
    },
    {
      "cell_type": "code",
      "metadata": {
        "id": "K2PYKxTj5GmS",
        "colab_type": "code",
        "colab": {}
      },
      "source": [
        "x = dataset.iloc[:,0:-1].values\n",
        "min_max_scaler = preprocessing.MinMaxScaler()\n",
        "x_scaled = min_max_scaler.fit_transform(x)\n",
        "X=np.asarray(x_scaled)\n",
        "y=np.asarray(dataset.iloc[:,-1])"
      ],
      "execution_count": 0,
      "outputs": []
    },
    {
      "cell_type": "markdown",
      "metadata": {
        "id": "b-t0NFd36z2S",
        "colab_type": "text"
      },
      "source": [
        "> #### Check Dataset"
      ]
    },
    {
      "cell_type": "code",
      "metadata": {
        "id": "pr0nunc_7YPS",
        "colab_type": "code",
        "colab": {}
      },
      "source": [
        "dataset.head()"
      ],
      "execution_count": 0,
      "outputs": []
    },
    {
      "cell_type": "markdown",
      "metadata": {
        "id": "TAXfHB901vhj",
        "colab_type": "text"
      },
      "source": [
        "> ### Splitting the Dataset: Train / Test"
      ]
    },
    {
      "cell_type": "code",
      "metadata": {
        "id": "NMpR33la6nVk",
        "colab_type": "code",
        "colab": {}
      },
      "source": [
        "X_train, X_test, y_train, y_test = train_test_split(X, y, test_size=0.75, random_state=None)"
      ],
      "execution_count": 0,
      "outputs": []
    },
    {
      "cell_type": "markdown",
      "metadata": {
        "id": "IxXkBXkK7Scu",
        "colab_type": "text"
      },
      "source": [
        "> ### TPOT Classifier"
      ]
    },
    {
      "cell_type": "code",
      "metadata": {
        "id": "61rEjbvn7xB6",
        "colab_type": "code",
        "colab": {}
      },
      "source": [
        "tpot = TPOTClassifier(generations=1, verbosity=2, population_size=100, scoring='accuracy', n_jobs = -1, config_dict='TPOT light')\n",
        "tpot.fit(X_train, y_train)\n",
        "output_score=str(tpot.score(X_test, y_test))\n",
        "print(tpot.fitted_pipeline_)"
      ],
      "execution_count": 0,
      "outputs": []
    },
    {
      "cell_type": "markdown",
      "metadata": {
        "id": "6jAicg4DB-PD",
        "colab_type": "text"
      },
      "source": [
        "> #### Export Pipeline as Python script"
      ]
    },
    {
      "cell_type": "code",
      "metadata": {
        "id": "vpHMD0nOCfhn",
        "colab_type": "code",
        "colab": {}
      },
      "source": [
        "tpot.export('tpot_exported_credit_card_pipeline.py')\n",
        "from google.colab import files\n",
        "files.download('tpot_exported_credit_card_pipeline.py')"
      ],
      "execution_count": 0,
      "outputs": []
    },
    {
      "cell_type": "markdown",
      "metadata": {
        "id": "wNKcBUXd8NxX",
        "colab_type": "text"
      },
      "source": [
        ">#### TPOT Evaluated Pipelines"
      ]
    },
    {
      "cell_type": "code",
      "metadata": {
        "id": "xcLhep898S_B",
        "colab_type": "code",
        "colab": {
          "base_uri": "https://localhost:8080/",
          "height": 54
        },
        "outputId": "fb317701-1001-4e6b-e0c9-988b6348f8b8"
      },
      "source": [
        "print(tpot.evaluated_individuals_)"
      ],
      "execution_count": 139,
      "outputs": [
        {
          "output_type": "stream",
          "text": [
            "{'GaussianNB(input_matrix)': {'generation': 0, 'mutation_count': 0, 'crossover_count': 0, 'predecessor': ('ROOT',), 'operator_count': 1, 'internal_cv_score': 0.8201643643643644}, 'KNeighborsClassifier(VarianceThreshold(input_matrix, VarianceThreshold__threshold=0.2), KNeighborsClassifier__n_neighbors=61, KNeighborsClassifier__p=2, KNeighborsClassifier__weights=uniform)': {'generation': 0, 'mutation_count': 0, 'crossover_count': 0, 'predecessor': ('ROOT',), 'operator_count': 2, 'internal_cv_score': 0.7735567567567567}, 'BernoulliNB(input_matrix, BernoulliNB__alpha=0.001, BernoulliNB__fit_prior=False)': {'generation': 0, 'mutation_count': 0, 'crossover_count': 0, 'predecessor': ('ROOT',), 'operator_count': 1, 'internal_cv_score': 0.7133441441441442}, 'KNeighborsClassifier(SelectFwe(input_matrix, SelectFwe__alpha=0.028), KNeighborsClassifier__n_neighbors=43, KNeighborsClassifier__p=2, KNeighborsClassifier__weights=uniform)': {'generation': 0, 'mutation_count': 0, 'crossover_count': 0, 'predecessor': ('ROOT',), 'operator_count': 2, 'internal_cv_score': 0.856573173173173}, 'DecisionTreeClassifier(input_matrix, DecisionTreeClassifier__criterion=entropy, DecisionTreeClassifier__max_depth=1, DecisionTreeClassifier__min_samples_leaf=11, DecisionTreeClassifier__min_samples_split=5)': {'generation': 0, 'mutation_count': 0, 'crossover_count': 0, 'predecessor': ('ROOT',), 'operator_count': 1, 'internal_cv_score': 0.7335467467467468}, 'BernoulliNB(input_matrix, BernoulliNB__alpha=0.001, BernoulliNB__fit_prior=True)': {'generation': 0, 'mutation_count': 0, 'crossover_count': 0, 'predecessor': ('ROOT',), 'operator_count': 1, 'internal_cv_score': 0.7809577577577578}, 'GaussianNB(MultinomialNB(input_matrix, MultinomialNB__alpha=1.0, MultinomialNB__fit_prior=False))': {'generation': 0, 'mutation_count': 0, 'crossover_count': 0, 'predecessor': ('ROOT',), 'operator_count': 2, 'internal_cv_score': 0.7167463463463465}, 'BernoulliNB(MultinomialNB(input_matrix, MultinomialNB__alpha=0.01, MultinomialNB__fit_prior=False), BernoulliNB__alpha=0.01, BernoulliNB__fit_prior=False)': {'generation': 0, 'mutation_count': 0, 'crossover_count': 0, 'predecessor': ('ROOT',), 'operator_count': 2, 'internal_cv_score': 0.7001429429429429}, 'MultinomialNB(GaussianNB(input_matrix), MultinomialNB__alpha=1.0, MultinomialNB__fit_prior=True)': {'generation': 0, 'mutation_count': 0, 'crossover_count': 0, 'predecessor': ('ROOT',), 'operator_count': 2, 'internal_cv_score': 0.8201643643643644}, 'DecisionTreeClassifier(RBFSampler(input_matrix, RBFSampler__gamma=0.75), DecisionTreeClassifier__criterion=gini, DecisionTreeClassifier__max_depth=10, DecisionTreeClassifier__min_samples_leaf=15, DecisionTreeClassifier__min_samples_split=18)': {'generation': 0, 'mutation_count': 0, 'crossover_count': 0, 'predecessor': ('ROOT',), 'operator_count': 2, 'internal_cv_score': 0.836568168168168}, 'DecisionTreeClassifier(RobustScaler(input_matrix), DecisionTreeClassifier__criterion=entropy, DecisionTreeClassifier__max_depth=4, DecisionTreeClassifier__min_samples_leaf=19, DecisionTreeClassifier__min_samples_split=12)': {'generation': 0, 'mutation_count': 0, 'crossover_count': 0, 'predecessor': ('ROOT',), 'operator_count': 2, 'internal_cv_score': 0.8081637637637638}, 'DecisionTreeClassifier(MultinomialNB(input_matrix, MultinomialNB__alpha=0.01, MultinomialNB__fit_prior=False), DecisionTreeClassifier__criterion=entropy, DecisionTreeClassifier__max_depth=7, DecisionTreeClassifier__min_samples_leaf=13, DecisionTreeClassifier__min_samples_split=4)': {'generation': 0, 'mutation_count': 0, 'crossover_count': 0, 'predecessor': ('ROOT',), 'operator_count': 2, 'internal_cv_score': 0.8785755755755756}, 'KNeighborsClassifier(input_matrix, KNeighborsClassifier__n_neighbors=90, KNeighborsClassifier__p=2, KNeighborsClassifier__weights=uniform)': {'generation': 0, 'mutation_count': 0, 'crossover_count': 0, 'predecessor': ('ROOT',), 'operator_count': 1, 'internal_cv_score': 0.831767167167167}, 'BernoulliNB(SelectFwe(input_matrix, SelectFwe__alpha=0.035), BernoulliNB__alpha=0.1, BernoulliNB__fit_prior=True)': {'generation': 0, 'mutation_count': 0, 'crossover_count': 0, 'predecessor': ('ROOT',), 'operator_count': 2, 'internal_cv_score': 0.7809577577577578}, 'MultinomialNB(input_matrix, MultinomialNB__alpha=100.0, MultinomialNB__fit_prior=True)': {'generation': 0, 'mutation_count': 0, 'crossover_count': 0, 'predecessor': ('ROOT',), 'operator_count': 1, 'internal_cv_score': 0.7335467467467468}, 'BernoulliNB(FeatureAgglomeration(input_matrix, FeatureAgglomeration__affinity=cosine, FeatureAgglomeration__linkage=average), BernoulliNB__alpha=0.01, BernoulliNB__fit_prior=True)': {'generation': 0, 'mutation_count': 0, 'crossover_count': 0, 'predecessor': ('ROOT',), 'operator_count': 2, 'internal_cv_score': 0.7335467467467468}, 'BernoulliNB(RobustScaler(input_matrix), BernoulliNB__alpha=0.001, BernoulliNB__fit_prior=False)': {'generation': 0, 'mutation_count': 0, 'crossover_count': 0, 'predecessor': ('ROOT',), 'operator_count': 2, 'internal_cv_score': 0.670929129129129}, 'MultinomialNB(input_matrix, MultinomialNB__alpha=0.1, MultinomialNB__fit_prior=False)': {'generation': 0, 'mutation_count': 0, 'crossover_count': 0, 'predecessor': ('ROOT',), 'operator_count': 1, 'internal_cv_score': 0.7001429429429429}, 'DecisionTreeClassifier(input_matrix, DecisionTreeClassifier__criterion=entropy, DecisionTreeClassifier__max_depth=4, DecisionTreeClassifier__min_samples_leaf=3, DecisionTreeClassifier__min_samples_split=15)': {'generation': 0, 'mutation_count': 0, 'crossover_count': 0, 'predecessor': ('ROOT',), 'operator_count': 1, 'internal_cv_score': 0.8085637637637639}, 'KNeighborsClassifier(ZeroCount(input_matrix), KNeighborsClassifier__n_neighbors=22, KNeighborsClassifier__p=2, KNeighborsClassifier__weights=uniform)': {'generation': 0, 'mutation_count': 0, 'crossover_count': 0, 'predecessor': ('ROOT',), 'operator_count': 2, 'internal_cv_score': 0.8547713713713714}, 'DecisionTreeClassifier(VarianceThreshold(input_matrix, VarianceThreshold__threshold=0.01), DecisionTreeClassifier__criterion=gini, DecisionTreeClassifier__max_depth=8, DecisionTreeClassifier__min_samples_leaf=15, DecisionTreeClassifier__min_samples_split=7)': {'generation': 0, 'mutation_count': 0, 'crossover_count': 0, 'predecessor': ('ROOT',), 'operator_count': 2, 'internal_cv_score': 0.8827783783783785}, 'KNeighborsClassifier(input_matrix, KNeighborsClassifier__n_neighbors=55, KNeighborsClassifier__p=2, KNeighborsClassifier__weights=distance)': {'generation': 0, 'mutation_count': 0, 'crossover_count': 0, 'predecessor': ('ROOT',), 'operator_count': 1, 'internal_cv_score': 0.8609733733733733}, 'BernoulliNB(SelectPercentile(input_matrix, SelectPercentile__percentile=25), BernoulliNB__alpha=1.0, BernoulliNB__fit_prior=False)': {'generation': 0, 'mutation_count': 0, 'crossover_count': 0, 'predecessor': ('ROOT',), 'operator_count': 2, 'internal_cv_score': 0.6415307307307307}, 'LogisticRegression(GaussianNB(input_matrix), LogisticRegression__C=25.0, LogisticRegression__dual=False, LogisticRegression__penalty=l2)': {'generation': 0, 'mutation_count': 0, 'crossover_count': 0, 'predecessor': ('ROOT',), 'operator_count': 2, 'internal_cv_score': 0.8187645645645645}, 'MultinomialNB(input_matrix, MultinomialNB__alpha=100.0, MultinomialNB__fit_prior=False)': {'generation': 0, 'mutation_count': 0, 'crossover_count': 0, 'predecessor': ('ROOT',), 'operator_count': 1, 'internal_cv_score': 0.6957413413413414}, 'MultinomialNB(input_matrix, MultinomialNB__alpha=1.0, MultinomialNB__fit_prior=True)': {'generation': 0, 'mutation_count': 0, 'crossover_count': 0, 'predecessor': ('ROOT',), 'operator_count': 1, 'internal_cv_score': 0.7335467467467468}, 'LogisticRegression(input_matrix, LogisticRegression__C=0.001, LogisticRegression__dual=False, LogisticRegression__penalty=l2)': {'generation': 0, 'mutation_count': 0, 'crossover_count': 0, 'predecessor': ('ROOT',), 'operator_count': 1, 'internal_cv_score': 0.7335467467467468}, 'KNeighborsClassifier(input_matrix, KNeighborsClassifier__n_neighbors=37, KNeighborsClassifier__p=2, KNeighborsClassifier__weights=uniform)': {'generation': 0, 'mutation_count': 0, 'crossover_count': 0, 'predecessor': ('ROOT',), 'operator_count': 1, 'internal_cv_score': 0.8601731731731732}, 'KNeighborsClassifier(input_matrix, KNeighborsClassifier__n_neighbors=2, KNeighborsClassifier__p=1, KNeighborsClassifier__weights=distance)': {'generation': 0, 'mutation_count': 0, 'crossover_count': 0, 'predecessor': ('ROOT',), 'operator_count': 1, 'internal_cv_score': 0.8743753753753755}, 'GaussianNB(Normalizer(input_matrix, Normalizer__norm=l1))': {'generation': 0, 'mutation_count': 0, 'crossover_count': 0, 'predecessor': ('ROOT',), 'operator_count': 2, 'internal_cv_score': 0.7989613613613613}, 'BernoulliNB(VarianceThreshold(input_matrix, VarianceThreshold__threshold=0.05), BernoulliNB__alpha=0.1, BernoulliNB__fit_prior=False)': {'generation': 0, 'mutation_count': 0, 'crossover_count': 0, 'predecessor': ('ROOT',), 'operator_count': 2, 'internal_cv_score': 0.7133441441441442}, 'DecisionTreeClassifier(input_matrix, DecisionTreeClassifier__criterion=gini, DecisionTreeClassifier__max_depth=2, DecisionTreeClassifier__min_samples_leaf=20, DecisionTreeClassifier__min_samples_split=14)': {'generation': 0, 'mutation_count': 0, 'crossover_count': 0, 'predecessor': ('ROOT',), 'operator_count': 1, 'internal_cv_score': 0.7849589589589591}, 'MultinomialNB(input_matrix, MultinomialNB__alpha=0.01, MultinomialNB__fit_prior=False)': {'generation': 0, 'mutation_count': 0, 'crossover_count': 0, 'predecessor': ('ROOT',), 'operator_count': 1, 'internal_cv_score': 0.7001429429429429}, 'KNeighborsClassifier(input_matrix, KNeighborsClassifier__n_neighbors=8, KNeighborsClassifier__p=2, KNeighborsClassifier__weights=distance)': {'generation': 0, 'mutation_count': 0, 'crossover_count': 0, 'predecessor': ('ROOT',), 'operator_count': 1, 'internal_cv_score': 0.89077997997998}, 'BernoulliNB(RBFSampler(input_matrix, RBFSampler__gamma=0.25), BernoulliNB__alpha=1.0, BernoulliNB__fit_prior=True)': {'generation': 0, 'mutation_count': 0, 'crossover_count': 0, 'predecessor': ('ROOT',), 'operator_count': 2, 'internal_cv_score': 0.7339501501501502}, 'BernoulliNB(input_matrix, BernoulliNB__alpha=0.1, BernoulliNB__fit_prior=False)': {'generation': 0, 'mutation_count': 0, 'crossover_count': 0, 'predecessor': ('ROOT',), 'operator_count': 1, 'internal_cv_score': 0.7133441441441442}, 'DecisionTreeClassifier(RBFSampler(input_matrix, RBFSampler__gamma=0.55), DecisionTreeClassifier__criterion=gini, DecisionTreeClassifier__max_depth=6, DecisionTreeClassifier__min_samples_leaf=8, DecisionTreeClassifier__min_samples_split=20)': {'generation': 0, 'mutation_count': 0, 'crossover_count': 0, 'predecessor': ('ROOT',), 'operator_count': 2, 'internal_cv_score': 0.8339687687687688}, 'BernoulliNB(input_matrix, BernoulliNB__alpha=10.0, BernoulliNB__fit_prior=True)': {'generation': 0, 'mutation_count': 0, 'crossover_count': 0, 'predecessor': ('ROOT',), 'operator_count': 1, 'internal_cv_score': 0.7799573573573573}, 'BernoulliNB(MaxAbsScaler(input_matrix), BernoulliNB__alpha=1.0, BernoulliNB__fit_prior=False)': {'generation': 0, 'mutation_count': 0, 'crossover_count': 0, 'predecessor': ('ROOT',), 'operator_count': 2, 'internal_cv_score': 0.7133441441441442}, 'MultinomialNB(CombineDFs(input_matrix, input_matrix), MultinomialNB__alpha=0.01, MultinomialNB__fit_prior=False)': {'generation': 0, 'mutation_count': 0, 'crossover_count': 0, 'predecessor': ('ROOT',), 'operator_count': 1, 'internal_cv_score': 0.7001429429429429}, 'MultinomialNB(DecisionTreeClassifier(input_matrix, DecisionTreeClassifier__criterion=gini, DecisionTreeClassifier__max_depth=7, DecisionTreeClassifier__min_samples_leaf=18, DecisionTreeClassifier__min_samples_split=11), MultinomialNB__alpha=0.01, MultinomialNB__fit_prior=True)': {'generation': 0, 'mutation_count': 0, 'crossover_count': 0, 'predecessor': ('ROOT',), 'operator_count': 2, 'internal_cv_score': 0.870576176176176}, 'BernoulliNB(MultinomialNB(input_matrix, MultinomialNB__alpha=10.0, MultinomialNB__fit_prior=False), BernoulliNB__alpha=0.001, BernoulliNB__fit_prior=True)': {'generation': 0, 'mutation_count': 0, 'crossover_count': 0, 'predecessor': ('ROOT',), 'operator_count': 2, 'internal_cv_score': 0.7191451451451452}, 'KNeighborsClassifier(input_matrix, KNeighborsClassifier__n_neighbors=57, KNeighborsClassifier__p=2, KNeighborsClassifier__weights=distance)': {'generation': 0, 'mutation_count': 0, 'crossover_count': 0, 'predecessor': ('ROOT',), 'operator_count': 1, 'internal_cv_score': 0.8621743743743744}, 'LogisticRegression(MaxAbsScaler(input_matrix), LogisticRegression__C=0.01, LogisticRegression__dual=False, LogisticRegression__penalty=l2)': {'generation': 0, 'mutation_count': 0, 'crossover_count': 0, 'predecessor': ('ROOT',), 'operator_count': 2, 'internal_cv_score': 0.7687543543543545}, 'KNeighborsClassifier(KNeighborsClassifier(input_matrix, KNeighborsClassifier__n_neighbors=9, KNeighborsClassifier__p=1, KNeighborsClassifier__weights=uniform), KNeighborsClassifier__n_neighbors=62, KNeighborsClassifier__p=1, KNeighborsClassifier__weights=uniform)': {'generation': 0, 'mutation_count': 0, 'crossover_count': 0, 'predecessor': ('ROOT',), 'operator_count': 2, 'internal_cv_score': 0.8863795795795795}, 'KNeighborsClassifier(KNeighborsClassifier(input_matrix, KNeighborsClassifier__n_neighbors=27, KNeighborsClassifier__p=1, KNeighborsClassifier__weights=distance), KNeighborsClassifier__n_neighbors=55, KNeighborsClassifier__p=2, KNeighborsClassifier__weights=distance)': {'generation': 1, 'mutation_count': 1, 'crossover_count': 0, 'predecessor': ('KNeighborsClassifier(input_matrix, KNeighborsClassifier__n_neighbors=55, KNeighborsClassifier__p=2, KNeighborsClassifier__weights=distance)',), 'operator_count': 2, 'internal_cv_score': 0.8783761761761761}, 'MultinomialNB(SelectFwe(input_matrix, SelectFwe__alpha=0.034), MultinomialNB__alpha=1.0, MultinomialNB__fit_prior=True)': {'generation': 1, 'mutation_count': 1, 'crossover_count': 0, 'predecessor': ('MultinomialNB(input_matrix, MultinomialNB__alpha=1.0, MultinomialNB__fit_prior=True)',), 'operator_count': 2, 'internal_cv_score': 0.7335467467467468}, 'KNeighborsClassifier(VarianceThreshold(input_matrix, VarianceThreshold__threshold=0.001), KNeighborsClassifier__n_neighbors=2, KNeighborsClassifier__p=1, KNeighborsClassifier__weights=distance)': {'generation': 1, 'mutation_count': 1, 'crossover_count': 0, 'predecessor': ('KNeighborsClassifier(input_matrix, KNeighborsClassifier__n_neighbors=2, KNeighborsClassifier__p=1, KNeighborsClassifier__weights=distance)',), 'operator_count': 2, 'internal_cv_score': 0.8743753753753755}, 'KNeighborsClassifier(SelectPercentile(input_matrix, SelectPercentile__percentile=9), KNeighborsClassifier__n_neighbors=8, KNeighborsClassifier__p=2, KNeighborsClassifier__weights=distance)': {'generation': 1, 'mutation_count': 1, 'crossover_count': 0, 'predecessor': ('KNeighborsClassifier(input_matrix, KNeighborsClassifier__n_neighbors=8, KNeighborsClassifier__p=2, KNeighborsClassifier__weights=distance)',), 'operator_count': 2, 'internal_cv_score': 0.6805467467467468}, 'BernoulliNB(RBFSampler(input_matrix, RBFSampler__gamma=0.15000000000000002), BernoulliNB__alpha=1.0, BernoulliNB__fit_prior=True)': {'generation': 1, 'mutation_count': 1, 'crossover_count': 0, 'predecessor': ('BernoulliNB(RBFSampler(input_matrix, RBFSampler__gamma=0.25), BernoulliNB__alpha=1.0, BernoulliNB__fit_prior=True)',), 'operator_count': 2, 'internal_cv_score': 0.760546946946947}, 'DecisionTreeClassifier(Normalizer(input_matrix, Normalizer__norm=l2), DecisionTreeClassifier__criterion=entropy, DecisionTreeClassifier__max_depth=4, DecisionTreeClassifier__min_samples_leaf=3, DecisionTreeClassifier__min_samples_split=15)': {'generation': 1, 'mutation_count': 1, 'crossover_count': 0, 'predecessor': ('DecisionTreeClassifier(input_matrix, DecisionTreeClassifier__criterion=entropy, DecisionTreeClassifier__max_depth=4, DecisionTreeClassifier__min_samples_leaf=3, DecisionTreeClassifier__min_samples_split=15)',), 'operator_count': 2, 'internal_cv_score': 0.8029631631631631}, 'DecisionTreeClassifier(MinMaxScaler(input_matrix), DecisionTreeClassifier__criterion=entropy, DecisionTreeClassifier__max_depth=4, DecisionTreeClassifier__min_samples_leaf=19, DecisionTreeClassifier__min_samples_split=12)': {'generation': 1, 'mutation_count': 1, 'crossover_count': 0, 'predecessor': ('DecisionTreeClassifier(RobustScaler(input_matrix), DecisionTreeClassifier__criterion=entropy, DecisionTreeClassifier__max_depth=4, DecisionTreeClassifier__min_samples_leaf=19, DecisionTreeClassifier__min_samples_split=12)',), 'operator_count': 2, 'internal_cv_score': 0.8085637637637639}, 'BernoulliNB(input_matrix, BernoulliNB__alpha=0.1, BernoulliNB__fit_prior=True)': {'generation': 1, 'mutation_count': 1, 'crossover_count': 0, 'predecessor': ('GaussianNB(input_matrix)',), 'operator_count': 1, 'internal_cv_score': 0.7809577577577578}, 'DecisionTreeClassifier(VarianceThreshold(GaussianNB(input_matrix), VarianceThreshold__threshold=0.01), DecisionTreeClassifier__criterion=gini, DecisionTreeClassifier__max_depth=8, DecisionTreeClassifier__min_samples_leaf=15, DecisionTreeClassifier__min_samples_split=7)': {'generation': 1, 'mutation_count': 1, 'crossover_count': 0, 'predecessor': ('DecisionTreeClassifier(VarianceThreshold(input_matrix, VarianceThreshold__threshold=0.01), DecisionTreeClassifier__criterion=gini, DecisionTreeClassifier__max_depth=8, DecisionTreeClassifier__min_samples_leaf=15, DecisionTreeClassifier__min_samples_split=7)',), 'operator_count': 3, 'internal_cv_score': 0.8709777777777777}, 'LogisticRegression(StandardScaler(input_matrix), LogisticRegression__C=0.001, LogisticRegression__dual=False, LogisticRegression__penalty=l2)': {'generation': 1, 'mutation_count': 1, 'crossover_count': 0, 'predecessor': ('LogisticRegression(input_matrix, LogisticRegression__C=0.001, LogisticRegression__dual=False, LogisticRegression__penalty=l2)',), 'operator_count': 2, 'internal_cv_score': 0.7449495495495495}, 'LogisticRegression(input_matrix, LogisticRegression__C=0.01, LogisticRegression__dual=False, LogisticRegression__penalty=l2)': {'generation': 1, 'mutation_count': 1, 'crossover_count': 0, 'predecessor': ('LogisticRegression(MaxAbsScaler(input_matrix), LogisticRegression__C=0.01, LogisticRegression__dual=False, LogisticRegression__penalty=l2)',), 'operator_count': 1, 'internal_cv_score': 0.7687543543543545}, 'KNeighborsClassifier(GaussianNB(input_matrix), KNeighborsClassifier__n_neighbors=90, KNeighborsClassifier__p=2, KNeighborsClassifier__weights=uniform)': {'generation': 1, 'mutation_count': 1, 'crossover_count': 0, 'predecessor': ('KNeighborsClassifier(input_matrix, KNeighborsClassifier__n_neighbors=90, KNeighborsClassifier__p=2, KNeighborsClassifier__weights=uniform)',), 'operator_count': 2, 'internal_cv_score': 0.8319657657657658}, 'DecisionTreeClassifier(RBFSampler(input_matrix, RBFSampler__gamma=0.25), DecisionTreeClassifier__criterion=gini, DecisionTreeClassifier__max_depth=10, DecisionTreeClassifier__min_samples_leaf=15, DecisionTreeClassifier__min_samples_split=18)': {'generation': 1, 'mutation_count': 0, 'crossover_count': 1, 'predecessor': ('DecisionTreeClassifier(RBFSampler(input_matrix, RBFSampler__gamma=0.75), DecisionTreeClassifier__criterion=gini, DecisionTreeClassifier__max_depth=10, DecisionTreeClassifier__min_samples_leaf=15, DecisionTreeClassifier__min_samples_split=18)', 'BernoulliNB(RBFSampler(input_matrix, RBFSampler__gamma=0.25), BernoulliNB__alpha=1.0, BernoulliNB__fit_prior=True)'), 'operator_count': 2, 'internal_cv_score': 0.8461703703703704}, 'BernoulliNB(MaxAbsScaler(RobustScaler(input_matrix)), BernoulliNB__alpha=1.0, BernoulliNB__fit_prior=False)': {'generation': 1, 'mutation_count': 1, 'crossover_count': 0, 'predecessor': ('BernoulliNB(MaxAbsScaler(input_matrix), BernoulliNB__alpha=1.0, BernoulliNB__fit_prior=False)',), 'operator_count': 3, 'internal_cv_score': 0.670929129129129}, 'KNeighborsClassifier(MaxAbsScaler(input_matrix), KNeighborsClassifier__n_neighbors=8, KNeighborsClassifier__p=2, KNeighborsClassifier__weights=distance)': {'generation': 1, 'mutation_count': 1, 'crossover_count': 0, 'predecessor': ('KNeighborsClassifier(input_matrix, KNeighborsClassifier__n_neighbors=8, KNeighborsClassifier__p=2, KNeighborsClassifier__weights=distance)',), 'operator_count': 2, 'internal_cv_score': 0.89077997997998}, 'BernoulliNB(input_matrix, BernoulliNB__alpha=1.0, BernoulliNB__fit_prior=False)': {'generation': 1, 'mutation_count': 1, 'crossover_count': 0, 'predecessor': ('BernoulliNB(MaxAbsScaler(input_matrix), BernoulliNB__alpha=1.0, BernoulliNB__fit_prior=False)',), 'operator_count': 1, 'internal_cv_score': 0.7133441441441442}, 'BernoulliNB(input_matrix, BernoulliNB__alpha=0.01, BernoulliNB__fit_prior=True)': {'generation': 1, 'mutation_count': 1, 'crossover_count': 0, 'predecessor': ('GaussianNB(input_matrix)',), 'operator_count': 1, 'internal_cv_score': 0.7809577577577578}, 'BernoulliNB(PCA(input_matrix, PCA__iterated_power=2, PCA__svd_solver=randomized), BernoulliNB__alpha=1.0, BernoulliNB__fit_prior=False)': {'generation': 1, 'mutation_count': 1, 'crossover_count': 0, 'predecessor': ('BernoulliNB(MaxAbsScaler(input_matrix), BernoulliNB__alpha=1.0, BernoulliNB__fit_prior=False)',), 'operator_count': 2, 'internal_cv_score': 0.686535935935936}, 'KNeighborsClassifier(SelectFwe(input_matrix, SelectFwe__alpha=0.028), KNeighborsClassifier__n_neighbors=43, KNeighborsClassifier__p=1, KNeighborsClassifier__weights=uniform)': {'generation': 1, 'mutation_count': 1, 'crossover_count': 0, 'predecessor': ('KNeighborsClassifier(SelectFwe(input_matrix, SelectFwe__alpha=0.028), KNeighborsClassifier__n_neighbors=43, KNeighborsClassifier__p=2, KNeighborsClassifier__weights=uniform)',), 'operator_count': 2, 'internal_cv_score': 0.8613733733733733}, 'DecisionTreeClassifier(PCA(RobustScaler(input_matrix), PCA__iterated_power=1, PCA__svd_solver=randomized), DecisionTreeClassifier__criterion=entropy, DecisionTreeClassifier__max_depth=4, DecisionTreeClassifier__min_samples_leaf=19, DecisionTreeClassifier__min_samples_split=12)': {'generation': 1, 'mutation_count': 1, 'crossover_count': 0, 'predecessor': ('DecisionTreeClassifier(RobustScaler(input_matrix), DecisionTreeClassifier__criterion=entropy, DecisionTreeClassifier__max_depth=4, DecisionTreeClassifier__min_samples_leaf=19, DecisionTreeClassifier__min_samples_split=12)',), 'operator_count': 3, 'internal_cv_score': 0.8085657657657656}, 'DecisionTreeClassifier(SelectFwe(input_matrix, SelectFwe__alpha=0.021), DecisionTreeClassifier__criterion=gini, DecisionTreeClassifier__max_depth=2, DecisionTreeClassifier__min_samples_leaf=20, DecisionTreeClassifier__min_samples_split=14)': {'generation': 1, 'mutation_count': 1, 'crossover_count': 0, 'predecessor': ('DecisionTreeClassifier(input_matrix, DecisionTreeClassifier__criterion=gini, DecisionTreeClassifier__max_depth=2, DecisionTreeClassifier__min_samples_leaf=20, DecisionTreeClassifier__min_samples_split=14)',), 'operator_count': 2, 'internal_cv_score': 0.7849589589589591}, 'GaussianNB(GaussianNB(Normalizer(input_matrix, Normalizer__norm=l1)))': {'generation': 1, 'mutation_count': 1, 'crossover_count': 0, 'predecessor': ('GaussianNB(Normalizer(input_matrix, Normalizer__norm=l1))',), 'operator_count': 3, 'internal_cv_score': 0.7991605605605605}, 'DecisionTreeClassifier(RBFSampler(input_matrix, RBFSampler__gamma=0.55), DecisionTreeClassifier__criterion=gini, DecisionTreeClassifier__max_depth=4, DecisionTreeClassifier__min_samples_leaf=8, DecisionTreeClassifier__min_samples_split=20)': {'generation': 1, 'mutation_count': 1, 'crossover_count': 0, 'predecessor': ('DecisionTreeClassifier(RBFSampler(input_matrix, RBFSampler__gamma=0.55), DecisionTreeClassifier__criterion=gini, DecisionTreeClassifier__max_depth=6, DecisionTreeClassifier__min_samples_leaf=8, DecisionTreeClassifier__min_samples_split=20)',), 'operator_count': 2, 'internal_cv_score': 0.8211627627627628}, 'KNeighborsClassifier(input_matrix, KNeighborsClassifier__n_neighbors=30, KNeighborsClassifier__p=2, KNeighborsClassifier__weights=distance)': {'generation': 1, 'mutation_count': 1, 'crossover_count': 0, 'predecessor': ('KNeighborsClassifier(input_matrix, KNeighborsClassifier__n_neighbors=8, KNeighborsClassifier__p=2, KNeighborsClassifier__weights=distance)',), 'operator_count': 1, 'internal_cv_score': 0.8683747747747749}, 'DecisionTreeClassifier(CombineDFs(input_matrix, input_matrix), DecisionTreeClassifier__criterion=entropy, DecisionTreeClassifier__max_depth=4, DecisionTreeClassifier__min_samples_leaf=3, DecisionTreeClassifier__min_samples_split=15)': {'generation': 1, 'mutation_count': 1, 'crossover_count': 0, 'predecessor': ('DecisionTreeClassifier(input_matrix, DecisionTreeClassifier__criterion=entropy, DecisionTreeClassifier__max_depth=4, DecisionTreeClassifier__min_samples_leaf=3, DecisionTreeClassifier__min_samples_split=15)',), 'operator_count': 1, 'internal_cv_score': 0.8085637637637639}, 'KNeighborsClassifier(input_matrix, KNeighborsClassifier__n_neighbors=25, KNeighborsClassifier__p=1, KNeighborsClassifier__weights=uniform)': {'generation': 1, 'mutation_count': 1, 'crossover_count': 0, 'predecessor': ('KNeighborsClassifier(input_matrix, KNeighborsClassifier__n_neighbors=55, KNeighborsClassifier__p=2, KNeighborsClassifier__weights=distance)',), 'operator_count': 1, 'internal_cv_score': 0.872375175175175}, 'KNeighborsClassifier(VarianceThreshold(input_matrix, VarianceThreshold__threshold=0.2), KNeighborsClassifier__n_neighbors=61, KNeighborsClassifier__p=2, KNeighborsClassifier__weights=distance)': {'generation': 1, 'mutation_count': 1, 'crossover_count': 0, 'predecessor': ('KNeighborsClassifier(VarianceThreshold(input_matrix, VarianceThreshold__threshold=0.2), KNeighborsClassifier__n_neighbors=61, KNeighborsClassifier__p=2, KNeighborsClassifier__weights=uniform)',), 'operator_count': 2, 'internal_cv_score': 0.7735567567567567}, 'GaussianNB(MaxAbsScaler(input_matrix))': {'generation': 1, 'mutation_count': 1, 'crossover_count': 0, 'predecessor': ('GaussianNB(input_matrix)',), 'operator_count': 2, 'internal_cv_score': 0.8201643643643644}, 'DecisionTreeClassifier(ZeroCount(RobustScaler(input_matrix)), DecisionTreeClassifier__criterion=entropy, DecisionTreeClassifier__max_depth=4, DecisionTreeClassifier__min_samples_leaf=19, DecisionTreeClassifier__min_samples_split=12)': {'generation': 1, 'mutation_count': 1, 'crossover_count': 0, 'predecessor': ('DecisionTreeClassifier(RobustScaler(input_matrix), DecisionTreeClassifier__criterion=entropy, DecisionTreeClassifier__max_depth=4, DecisionTreeClassifier__min_samples_leaf=19, DecisionTreeClassifier__min_samples_split=12)',), 'operator_count': 3, 'internal_cv_score': 0.8075631631631632}, 'MultinomialNB(MinMaxScaler(input_matrix), MultinomialNB__alpha=0.1, MultinomialNB__fit_prior=False)': {'generation': 1, 'mutation_count': 1, 'crossover_count': 0, 'predecessor': ('MultinomialNB(input_matrix, MultinomialNB__alpha=0.1, MultinomialNB__fit_prior=False)',), 'operator_count': 2, 'internal_cv_score': 0.700342942942943}, 'BernoulliNB(MultinomialNB(input_matrix, MultinomialNB__alpha=1.0, MultinomialNB__fit_prior=True), BernoulliNB__alpha=0.1, BernoulliNB__fit_prior=False)': {'generation': 1, 'mutation_count': 1, 'crossover_count': 0, 'predecessor': ('BernoulliNB(input_matrix, BernoulliNB__alpha=0.1, BernoulliNB__fit_prior=False)',), 'operator_count': 2, 'internal_cv_score': 0.7133441441441442}, 'KNeighborsClassifier(input_matrix, KNeighborsClassifier__n_neighbors=53, KNeighborsClassifier__p=1, KNeighborsClassifier__weights=uniform)': {'generation': 1, 'mutation_count': 1, 'crossover_count': 0, 'predecessor': ('GaussianNB(input_matrix)',), 'operator_count': 1, 'internal_cv_score': 0.858772172172172}, 'BernoulliNB(CombineDFs(input_matrix, SelectFwe(input_matrix, SelectFwe__alpha=0.035)), BernoulliNB__alpha=0.1, BernoulliNB__fit_prior=True)': {'generation': 1, 'mutation_count': 1, 'crossover_count': 0, 'predecessor': ('BernoulliNB(SelectFwe(input_matrix, SelectFwe__alpha=0.035), BernoulliNB__alpha=0.1, BernoulliNB__fit_prior=True)',), 'operator_count': 2, 'internal_cv_score': 0.7215465465465465}, 'GaussianNB(DecisionTreeClassifier(input_matrix, DecisionTreeClassifier__criterion=gini, DecisionTreeClassifier__max_depth=4, DecisionTreeClassifier__min_samples_leaf=8, DecisionTreeClassifier__min_samples_split=3))': {'generation': 1, 'mutation_count': 1, 'crossover_count': 0, 'predecessor': ('GaussianNB(input_matrix)',), 'operator_count': 2, 'internal_cv_score': 0.8155651651651651}, 'DecisionTreeClassifier(MultinomialNB(input_matrix, MultinomialNB__alpha=0.01, MultinomialNB__fit_prior=False), DecisionTreeClassifier__criterion=entropy, DecisionTreeClassifier__max_depth=2, DecisionTreeClassifier__min_samples_leaf=13, DecisionTreeClassifier__min_samples_split=4)': {'generation': 1, 'mutation_count': 0, 'crossover_count': 1, 'predecessor': ('DecisionTreeClassifier(MultinomialNB(input_matrix, MultinomialNB__alpha=0.01, MultinomialNB__fit_prior=False), DecisionTreeClassifier__criterion=entropy, DecisionTreeClassifier__max_depth=7, DecisionTreeClassifier__min_samples_leaf=13, DecisionTreeClassifier__min_samples_split=4)', 'DecisionTreeClassifier(input_matrix, DecisionTreeClassifier__criterion=gini, DecisionTreeClassifier__max_depth=2, DecisionTreeClassifier__min_samples_leaf=20, DecisionTreeClassifier__min_samples_split=14)'), 'operator_count': 2, 'internal_cv_score': 0.8001621621621622}, 'MultinomialNB(GaussianNB(input_matrix), MultinomialNB__alpha=10.0, MultinomialNB__fit_prior=True)': {'generation': 1, 'mutation_count': 0, 'crossover_count': 1, 'predecessor': ('MultinomialNB(GaussianNB(input_matrix), MultinomialNB__alpha=1.0, MultinomialNB__fit_prior=True)', 'BernoulliNB(MultinomialNB(input_matrix, MultinomialNB__alpha=10.0, MultinomialNB__fit_prior=False), BernoulliNB__alpha=0.001, BernoulliNB__fit_prior=True)'), 'operator_count': 2, 'internal_cv_score': 0.8201643643643644}, 'BernoulliNB(FeatureAgglomeration(MinMaxScaler(input_matrix), FeatureAgglomeration__affinity=cosine, FeatureAgglomeration__linkage=average), BernoulliNB__alpha=0.01, BernoulliNB__fit_prior=True)': {'generation': 1, 'mutation_count': 1, 'crossover_count': 0, 'predecessor': ('BernoulliNB(FeatureAgglomeration(input_matrix, FeatureAgglomeration__affinity=cosine, FeatureAgglomeration__linkage=average), BernoulliNB__alpha=0.01, BernoulliNB__fit_prior=True)',), 'operator_count': 3, 'internal_cv_score': 0.7335467467467468}, 'GaussianNB(SelectPercentile(input_matrix, SelectPercentile__percentile=25))': {'generation': 1, 'mutation_count': 1, 'crossover_count': 0, 'predecessor': ('BernoulliNB(SelectPercentile(input_matrix, SelectPercentile__percentile=25), BernoulliNB__alpha=1.0, BernoulliNB__fit_prior=False)',), 'operator_count': 2, 'internal_cv_score': 0.7449497497497497}, 'MultinomialNB(MultinomialNB(input_matrix, MultinomialNB__alpha=100.0, MultinomialNB__fit_prior=True), MultinomialNB__alpha=0.01, MultinomialNB__fit_prior=False)': {'generation': 1, 'mutation_count': 1, 'crossover_count': 0, 'predecessor': ('MultinomialNB(input_matrix, MultinomialNB__alpha=0.01, MultinomialNB__fit_prior=False)',), 'operator_count': 2, 'internal_cv_score': 0.701342942942943}, 'DecisionTreeClassifier(input_matrix, DecisionTreeClassifier__criterion=entropy, DecisionTreeClassifier__max_depth=10, DecisionTreeClassifier__min_samples_leaf=19, DecisionTreeClassifier__min_samples_split=14)': {'generation': 1, 'mutation_count': 1, 'crossover_count': 0, 'predecessor': ('BernoulliNB(input_matrix, BernoulliNB__alpha=10.0, BernoulliNB__fit_prior=True)',), 'operator_count': 1, 'internal_cv_score': 0.8737765765765765}, 'BernoulliNB(MaxAbsScaler(input_matrix), BernoulliNB__alpha=0.001, BernoulliNB__fit_prior=False)': {'generation': 1, 'mutation_count': 0, 'crossover_count': 1, 'predecessor': ('BernoulliNB(input_matrix, BernoulliNB__alpha=0.001, BernoulliNB__fit_prior=False)', 'BernoulliNB(MaxAbsScaler(input_matrix), BernoulliNB__alpha=1.0, BernoulliNB__fit_prior=False)'), 'operator_count': 2, 'internal_cv_score': 0.7133441441441442}, 'GaussianNB(SelectFwe(input_matrix, SelectFwe__alpha=0.015))': {'generation': 1, 'mutation_count': 1, 'crossover_count': 0, 'predecessor': ('GaussianNB(input_matrix)',), 'operator_count': 2, 'internal_cv_score': 0.8177643643643645}, 'BernoulliNB(MultinomialNB(CombineDFs(input_matrix, input_matrix), MultinomialNB__alpha=10.0, MultinomialNB__fit_prior=False), BernoulliNB__alpha=0.001, BernoulliNB__fit_prior=True)': {'generation': 1, 'mutation_count': 1, 'crossover_count': 0, 'predecessor': ('BernoulliNB(MultinomialNB(input_matrix, MultinomialNB__alpha=10.0, MultinomialNB__fit_prior=False), BernoulliNB__alpha=0.001, BernoulliNB__fit_prior=True)',), 'operator_count': 2, 'internal_cv_score': 0.7191451451451452}, 'GaussianNB(MultinomialNB(input_matrix, MultinomialNB__alpha=0.01, MultinomialNB__fit_prior=False))': {'generation': 1, 'mutation_count': 1, 'crossover_count': 0, 'predecessor': ('GaussianNB(MultinomialNB(input_matrix, MultinomialNB__alpha=1.0, MultinomialNB__fit_prior=False))',), 'operator_count': 2, 'internal_cv_score': 0.7167463463463465}, 'GaussianNB(SelectPercentile(input_matrix, SelectPercentile__percentile=37))': {'generation': 1, 'mutation_count': 1, 'crossover_count': 0, 'predecessor': ('GaussianNB(input_matrix)',), 'operator_count': 2, 'internal_cv_score': 0.7843579579579579}, 'GaussianNB(ZeroCount(Normalizer(input_matrix, Normalizer__norm=l1)))': {'generation': 1, 'mutation_count': 1, 'crossover_count': 0, 'predecessor': ('GaussianNB(Normalizer(input_matrix, Normalizer__norm=l1))',), 'operator_count': 3, 'internal_cv_score': 0.7985597597597598}}\n"
          ],
          "name": "stdout"
        }
      ]
    }
  ]
}